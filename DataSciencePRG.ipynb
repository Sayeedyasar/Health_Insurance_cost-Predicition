{
 "cells": [
  {
   "cell_type": "code",
   "execution_count": 4,
   "id": "2c6c54d4-a3a1-47d0-85a7-b0a4a8fb2e4d",
   "metadata": {},
   "outputs": [],
   "source": [
    "import pandas as pd\n",
    "import numpy as np\n",
    "from sklearn.preprocessing import StandardScaler\n",
    "from sklearn.model_selection import cross_val_score\n",
    "from sklearn.metrics import mean_squared_error\n"
   ]
  },
  {
   "cell_type": "code",
   "execution_count": 5,
   "id": "4c31dc19-96ba-4fce-8a5d-61c7936e798f",
   "metadata": {},
   "outputs": [],
   "source": [
    "pd.options.mode.copy_on_write = True\n"
   ]
  },
  {
   "cell_type": "code",
   "execution_count": 6,
   "id": "01f07739-c5b2-4051-abe7-3233f37c158c",
   "metadata": {},
   "outputs": [
    {
     "data": {
      "text/html": [
       "<div>\n",
       "<style scoped>\n",
       "    .dataframe tbody tr th:only-of-type {\n",
       "        vertical-align: middle;\n",
       "    }\n",
       "\n",
       "    .dataframe tbody tr th {\n",
       "        vertical-align: top;\n",
       "    }\n",
       "\n",
       "    .dataframe thead th {\n",
       "        text-align: right;\n",
       "    }\n",
       "</style>\n",
       "<table border=\"1\" class=\"dataframe\">\n",
       "  <thead>\n",
       "    <tr style=\"text-align: right;\">\n",
       "      <th></th>\n",
       "      <th>age</th>\n",
       "      <th>sex</th>\n",
       "      <th>bmi</th>\n",
       "      <th>children</th>\n",
       "      <th>smoker</th>\n",
       "      <th>region</th>\n",
       "      <th>charges</th>\n",
       "    </tr>\n",
       "  </thead>\n",
       "  <tbody>\n",
       "    <tr>\n",
       "      <th>0</th>\n",
       "      <td>19.0</td>\n",
       "      <td>female</td>\n",
       "      <td>27.900</td>\n",
       "      <td>0.0</td>\n",
       "      <td>yes</td>\n",
       "      <td>southwest</td>\n",
       "      <td>16884.924</td>\n",
       "    </tr>\n",
       "    <tr>\n",
       "      <th>1</th>\n",
       "      <td>18.0</td>\n",
       "      <td>male</td>\n",
       "      <td>33.770</td>\n",
       "      <td>1.0</td>\n",
       "      <td>no</td>\n",
       "      <td>Southeast</td>\n",
       "      <td>1725.5523</td>\n",
       "    </tr>\n",
       "    <tr>\n",
       "      <th>2</th>\n",
       "      <td>28.0</td>\n",
       "      <td>male</td>\n",
       "      <td>33.000</td>\n",
       "      <td>3.0</td>\n",
       "      <td>no</td>\n",
       "      <td>southeast</td>\n",
       "      <td>$4449.462</td>\n",
       "    </tr>\n",
       "    <tr>\n",
       "      <th>3</th>\n",
       "      <td>33.0</td>\n",
       "      <td>male</td>\n",
       "      <td>22.705</td>\n",
       "      <td>0.0</td>\n",
       "      <td>no</td>\n",
       "      <td>northwest</td>\n",
       "      <td>$21984.47061</td>\n",
       "    </tr>\n",
       "    <tr>\n",
       "      <th>4</th>\n",
       "      <td>32.0</td>\n",
       "      <td>male</td>\n",
       "      <td>28.880</td>\n",
       "      <td>0.0</td>\n",
       "      <td>no</td>\n",
       "      <td>northwest</td>\n",
       "      <td>$3866.8552</td>\n",
       "    </tr>\n",
       "  </tbody>\n",
       "</table>\n",
       "</div>"
      ],
      "text/plain": [
       "    age     sex     bmi  children smoker     region       charges\n",
       "0  19.0  female  27.900       0.0    yes  southwest     16884.924\n",
       "1  18.0    male  33.770       1.0     no  Southeast     1725.5523\n",
       "2  28.0    male  33.000       3.0     no  southeast     $4449.462\n",
       "3  33.0    male  22.705       0.0     no  northwest  $21984.47061\n",
       "4  32.0    male  28.880       0.0     no  northwest    $3866.8552"
      ]
     },
     "execution_count": 6,
     "metadata": {},
     "output_type": "execute_result"
    }
   ],
   "source": [
    "insurance = pd.read_csv(\"Insurance.csv\")\n",
    "insurance.head()"
   ]
  },
  {
   "cell_type": "markdown",
   "id": "b71f4619-48a6-4764-bf5e-8c0056de6d56",
   "metadata": {},
   "source": [
    "# Cleaning the data"
   ]
  },
  {
   "cell_type": "code",
   "execution_count": 7,
   "id": "539c2f94-31c4-41c2-8826-3f4837dd24c7",
   "metadata": {},
   "outputs": [
    {
     "name": "stdout",
     "output_type": "stream",
     "text": [
      "<class 'pandas.core.frame.DataFrame'>\n",
      "RangeIndex: 1338 entries, 0 to 1337\n",
      "Data columns (total 7 columns):\n",
      " #   Column    Non-Null Count  Dtype  \n",
      "---  ------    --------------  -----  \n",
      " 0   age       1272 non-null   float64\n",
      " 1   sex       1272 non-null   object \n",
      " 2   bmi       1272 non-null   float64\n",
      " 3   children  1272 non-null   float64\n",
      " 4   smoker    1272 non-null   object \n",
      " 5   region    1272 non-null   object \n",
      " 6   charges   1284 non-null   object \n",
      "dtypes: float64(3), object(4)\n",
      "memory usage: 73.3+ KB\n"
     ]
    }
   ],
   "source": [
    "#cleaning the null values\n",
    "insurance.info()"
   ]
  },
  {
   "cell_type": "code",
   "execution_count": 8,
   "id": "9f1d5954-07f3-4a06-995b-b6dc7580298f",
   "metadata": {},
   "outputs": [
    {
     "name": "stdout",
     "output_type": "stream",
     "text": [
      "<class 'pandas.core.frame.DataFrame'>\n",
      "Index: 1208 entries, 0 to 1337\n",
      "Data columns (total 7 columns):\n",
      " #   Column    Non-Null Count  Dtype  \n",
      "---  ------    --------------  -----  \n",
      " 0   age       1208 non-null   float64\n",
      " 1   sex       1208 non-null   object \n",
      " 2   bmi       1208 non-null   float64\n",
      " 3   children  1208 non-null   float64\n",
      " 4   smoker    1208 non-null   object \n",
      " 5   region    1208 non-null   object \n",
      " 6   charges   1208 non-null   object \n",
      "dtypes: float64(3), object(4)\n",
      "memory usage: 75.5+ KB\n"
     ]
    }
   ],
   "source": [
    "insurance_filled = insurance.dropna()\n",
    "insurance_filled.info()"
   ]
  },
  {
   "cell_type": "code",
   "execution_count": 9,
   "id": "13ac8dd0-7c89-4feb-93df-b04df8ea4fa4",
   "metadata": {},
   "outputs": [
    {
     "data": {
      "text/plain": [
       "0    southwest\n",
       "1    southeast\n",
       "2    southeast\n",
       "Name: region, dtype: object"
      ]
     },
     "execution_count": 9,
     "metadata": {},
     "output_type": "execute_result"
    }
   ],
   "source": [
    "insurance_filled['region'] = insurance_filled['region'].str.lower()\n",
    "insurance_filled['region'].head(3)"
   ]
  },
  {
   "cell_type": "code",
   "execution_count": 10,
   "id": "d1f418eb-9107-4a67-a7cb-fcabcf28597b",
   "metadata": {},
   "outputs": [
    {
     "data": {
      "text/plain": [
       "array(['female', 'male'], dtype=object)"
      ]
     },
     "execution_count": 10,
     "metadata": {},
     "output_type": "execute_result"
    }
   ],
   "source": [
    "female = 'female'\n",
    "male = 'male'\n",
    "gen_map = {'woman': female,'F': female,'female':female,'man': male,'M':male,'male':male}\n",
    "insurance_filled['sex']= insurance_filled['sex'].replace(gen_map)\n",
    "insurance_filled['sex'].unique()\n"
   ]
  },
  {
   "cell_type": "code",
   "execution_count": 11,
   "id": "c17ecba5-3bec-4cd4-921f-480dae7372b0",
   "metadata": {},
   "outputs": [
    {
     "name": "stdout",
     "output_type": "stream",
     "text": [
      "<class 'pandas.core.frame.DataFrame'>\n",
      "Index: 1208 entries, 0 to 1337\n",
      "Data columns (total 7 columns):\n",
      " #   Column    Non-Null Count  Dtype  \n",
      "---  ------    --------------  -----  \n",
      " 0   age       1208 non-null   float64\n",
      " 1   sex       1208 non-null   object \n",
      " 2   bmi       1208 non-null   float64\n",
      " 3   children  1208 non-null   float64\n",
      " 4   smoker    1208 non-null   bool   \n",
      " 5   region    1208 non-null   object \n",
      " 6   charges   1208 non-null   object \n",
      "dtypes: bool(1), float64(3), object(3)\n",
      "memory usage: 67.2+ KB\n"
     ]
    }
   ],
   "source": [
    "insurance_filled[\"smoker\"] = (insurance_filled['smoker']==\"no\")\n",
    "insurance_filled.info()"
   ]
  },
  {
   "cell_type": "markdown",
   "id": "6f949590-18b5-4e85-9a31-ea12ca09e071",
   "metadata": {},
   "source": [
    "## making the charges section to bool value"
   ]
  },
  {
   "cell_type": "code",
   "execution_count": 12,
   "id": "c17a6ae5-3504-45a2-9d14-ddf2873d6bf2",
   "metadata": {},
   "outputs": [],
   "source": [
    "insurance_filled['charges'] = insurance_filled['charges'].str.strip('$').astype(\"float64\")"
   ]
  },
  {
   "cell_type": "code",
   "execution_count": 13,
   "id": "a4c43c77-194d-47c4-8ab3-6dd23bab21fc",
   "metadata": {},
   "outputs": [],
   "source": [
    "insurance_pos = insurance_filled.apply(lambda x:x.abs() if np.issubdtype(x.dtype,np.number) else x )"
   ]
  },
  {
   "cell_type": "code",
   "execution_count": 14,
   "id": "4ef81be8-d32f-462c-953a-141638174260",
   "metadata": {},
   "outputs": [
    {
     "data": {
      "text/html": [
       "<div>\n",
       "<style scoped>\n",
       "    .dataframe tbody tr th:only-of-type {\n",
       "        vertical-align: middle;\n",
       "    }\n",
       "\n",
       "    .dataframe tbody tr th {\n",
       "        vertical-align: top;\n",
       "    }\n",
       "\n",
       "    .dataframe thead th {\n",
       "        text-align: right;\n",
       "    }\n",
       "</style>\n",
       "<table border=\"1\" class=\"dataframe\">\n",
       "  <thead>\n",
       "    <tr style=\"text-align: right;\">\n",
       "      <th></th>\n",
       "      <th>age</th>\n",
       "      <th>sex</th>\n",
       "      <th>bmi</th>\n",
       "      <th>children</th>\n",
       "      <th>smoker</th>\n",
       "      <th>region</th>\n",
       "      <th>charges</th>\n",
       "    </tr>\n",
       "  </thead>\n",
       "  <tbody>\n",
       "    <tr>\n",
       "      <th>471</th>\n",
       "      <td>18.0</td>\n",
       "      <td>female</td>\n",
       "      <td>30.115</td>\n",
       "      <td>0.0</td>\n",
       "      <td>True</td>\n",
       "      <td>northeast</td>\n",
       "      <td>2203.47185</td>\n",
       "    </tr>\n",
       "    <tr>\n",
       "      <th>507</th>\n",
       "      <td>21.0</td>\n",
       "      <td>male</td>\n",
       "      <td>23.750</td>\n",
       "      <td>2.0</td>\n",
       "      <td>True</td>\n",
       "      <td>northwest</td>\n",
       "      <td>3077.09550</td>\n",
       "    </tr>\n",
       "    <tr>\n",
       "      <th>107</th>\n",
       "      <td>26.0</td>\n",
       "      <td>male</td>\n",
       "      <td>30.875</td>\n",
       "      <td>2.0</td>\n",
       "      <td>True</td>\n",
       "      <td>northwest</td>\n",
       "      <td>3877.30425</td>\n",
       "    </tr>\n",
       "    <tr>\n",
       "      <th>251</th>\n",
       "      <td>63.0</td>\n",
       "      <td>female</td>\n",
       "      <td>32.200</td>\n",
       "      <td>2.0</td>\n",
       "      <td>False</td>\n",
       "      <td>southwest</td>\n",
       "      <td>47305.30500</td>\n",
       "    </tr>\n",
       "    <tr>\n",
       "      <th>222</th>\n",
       "      <td>32.0</td>\n",
       "      <td>male</td>\n",
       "      <td>30.800</td>\n",
       "      <td>3.0</td>\n",
       "      <td>True</td>\n",
       "      <td>southwest</td>\n",
       "      <td>5253.52400</td>\n",
       "    </tr>\n",
       "    <tr>\n",
       "      <th>1248</th>\n",
       "      <td>18.0</td>\n",
       "      <td>female</td>\n",
       "      <td>39.820</td>\n",
       "      <td>0.0</td>\n",
       "      <td>True</td>\n",
       "      <td>southeast</td>\n",
       "      <td>1633.96180</td>\n",
       "    </tr>\n",
       "    <tr>\n",
       "      <th>719</th>\n",
       "      <td>58.0</td>\n",
       "      <td>female</td>\n",
       "      <td>33.440</td>\n",
       "      <td>0.0</td>\n",
       "      <td>True</td>\n",
       "      <td>northwest</td>\n",
       "      <td>12231.61360</td>\n",
       "    </tr>\n",
       "    <tr>\n",
       "      <th>147</th>\n",
       "      <td>51.0</td>\n",
       "      <td>female</td>\n",
       "      <td>37.730</td>\n",
       "      <td>1.0</td>\n",
       "      <td>True</td>\n",
       "      <td>southeast</td>\n",
       "      <td>9877.60770</td>\n",
       "    </tr>\n",
       "    <tr>\n",
       "      <th>726</th>\n",
       "      <td>41.0</td>\n",
       "      <td>male</td>\n",
       "      <td>28.405</td>\n",
       "      <td>1.0</td>\n",
       "      <td>True</td>\n",
       "      <td>northwest</td>\n",
       "      <td>6664.68595</td>\n",
       "    </tr>\n",
       "    <tr>\n",
       "      <th>1166</th>\n",
       "      <td>57.0</td>\n",
       "      <td>male</td>\n",
       "      <td>40.370</td>\n",
       "      <td>0.0</td>\n",
       "      <td>True</td>\n",
       "      <td>southeast</td>\n",
       "      <td>10982.50130</td>\n",
       "    </tr>\n",
       "  </tbody>\n",
       "</table>\n",
       "</div>"
      ],
      "text/plain": [
       "       age     sex     bmi  children  smoker     region      charges\n",
       "471   18.0  female  30.115       0.0    True  northeast   2203.47185\n",
       "507   21.0    male  23.750       2.0    True  northwest   3077.09550\n",
       "107   26.0    male  30.875       2.0    True  northwest   3877.30425\n",
       "251   63.0  female  32.200       2.0   False  southwest  47305.30500\n",
       "222   32.0    male  30.800       3.0    True  southwest   5253.52400\n",
       "1248  18.0  female  39.820       0.0    True  southeast   1633.96180\n",
       "719   58.0  female  33.440       0.0    True  northwest  12231.61360\n",
       "147   51.0  female  37.730       1.0    True  southeast   9877.60770\n",
       "726   41.0    male  28.405       1.0    True  northwest   6664.68595\n",
       "1166  57.0    male  40.370       0.0    True  southeast  10982.50130"
      ]
     },
     "execution_count": 14,
     "metadata": {},
     "output_type": "execute_result"
    }
   ],
   "source": [
    "insurance_pos.sample(10)"
   ]
  },
  {
   "cell_type": "code",
   "execution_count": 15,
   "id": "4c83c8be-5e50-4a7e-8d0f-367470d95a54",
   "metadata": {},
   "outputs": [],
   "source": [
    "insurance_pos.to_csv(\"cleaned_insurance_data.csv\", index = False)"
   ]
  },
  {
   "cell_type": "markdown",
   "id": "b8e5c382-4aed-4cdc-958c-b625d7dbf1fe",
   "metadata": {},
   "source": [
    "# Task 2 - plots and graphs"
   ]
  },
  {
   "cell_type": "code",
   "execution_count": 16,
   "id": "75f0f876-b22d-4b12-a5fc-bb10bbe7268c",
   "metadata": {},
   "outputs": [
    {
     "data": {
      "text/plain": [
       "<matplotlib.collections.PathCollection at 0x2d330410440>"
      ]
     },
     "execution_count": 16,
     "metadata": {},
     "output_type": "execute_result"
    },
    {
     "data": {
      "image/png": "[encoded data removed]",
      "text/plain": [
       "<Figure size 640x480 with 1 Axes>"
      ]
     },
     "metadata": {},
     "output_type": "display_data"
    }
   ],
   "source": [
    "#scatter plot for relationships\n",
    "import matplotlib.pyplot as plt\n",
    "df= insurance_pos.copy()\n",
    "plt.scatter(df['bmi'],df['charges'],color = 'red')"
   ]
  },
  {
   "cell_type": "markdown",
   "id": "85c975cd-ae31-4c84-9085-6d4e300c0ef5",
   "metadata": {},
   "source": [
    "## Task 3 : prepare the data for the model fitting "
   ]
  },
  {
   "cell_type": "code",
   "execution_count": 17,
   "id": "d2b0e41f-fcc5-4583-8cd2-a5f3798b574a",
   "metadata": {},
   "outputs": [
    {
     "data": {
      "text/html": [
       "<div>\n",
       "<style scoped>\n",
       "    .dataframe tbody tr th:only-of-type {\n",
       "        vertical-align: middle;\n",
       "    }\n",
       "\n",
       "    .dataframe tbody tr th {\n",
       "        vertical-align: top;\n",
       "    }\n",
       "\n",
       "    .dataframe thead th {\n",
       "        text-align: right;\n",
       "    }\n",
       "</style>\n",
       "<table border=\"1\" class=\"dataframe\">\n",
       "  <thead>\n",
       "    <tr style=\"text-align: right;\">\n",
       "      <th></th>\n",
       "      <th>age</th>\n",
       "      <th>bmi</th>\n",
       "      <th>children</th>\n",
       "      <th>smoker</th>\n",
       "      <th>charges</th>\n",
       "      <th>region_northeast</th>\n",
       "      <th>region_northwest</th>\n",
       "      <th>region_southwest</th>\n",
       "      <th>is_male</th>\n",
       "    </tr>\n",
       "  </thead>\n",
       "  <tbody>\n",
       "    <tr>\n",
       "      <th>0</th>\n",
       "      <td>19.0</td>\n",
       "      <td>27.900</td>\n",
       "      <td>0.0</td>\n",
       "      <td>0</td>\n",
       "      <td>16884.92400</td>\n",
       "      <td>0</td>\n",
       "      <td>0</td>\n",
       "      <td>1</td>\n",
       "      <td>0</td>\n",
       "    </tr>\n",
       "    <tr>\n",
       "      <th>1</th>\n",
       "      <td>18.0</td>\n",
       "      <td>33.770</td>\n",
       "      <td>1.0</td>\n",
       "      <td>1</td>\n",
       "      <td>1725.55230</td>\n",
       "      <td>0</td>\n",
       "      <td>0</td>\n",
       "      <td>0</td>\n",
       "      <td>1</td>\n",
       "    </tr>\n",
       "    <tr>\n",
       "      <th>2</th>\n",
       "      <td>28.0</td>\n",
       "      <td>33.000</td>\n",
       "      <td>3.0</td>\n",
       "      <td>1</td>\n",
       "      <td>4449.46200</td>\n",
       "      <td>0</td>\n",
       "      <td>0</td>\n",
       "      <td>0</td>\n",
       "      <td>1</td>\n",
       "    </tr>\n",
       "    <tr>\n",
       "      <th>3</th>\n",
       "      <td>33.0</td>\n",
       "      <td>22.705</td>\n",
       "      <td>0.0</td>\n",
       "      <td>1</td>\n",
       "      <td>21984.47061</td>\n",
       "      <td>0</td>\n",
       "      <td>1</td>\n",
       "      <td>0</td>\n",
       "      <td>1</td>\n",
       "    </tr>\n",
       "    <tr>\n",
       "      <th>4</th>\n",
       "      <td>32.0</td>\n",
       "      <td>28.880</td>\n",
       "      <td>0.0</td>\n",
       "      <td>1</td>\n",
       "      <td>3866.85520</td>\n",
       "      <td>0</td>\n",
       "      <td>1</td>\n",
       "      <td>0</td>\n",
       "      <td>1</td>\n",
       "    </tr>\n",
       "  </tbody>\n",
       "</table>\n",
       "</div>"
      ],
      "text/plain": [
       "    age     bmi  children  smoker      charges  region_northeast  \\\n",
       "0  19.0  27.900       0.0       0  16884.92400                 0   \n",
       "1  18.0  33.770       1.0       1   1725.55230                 0   \n",
       "2  28.0  33.000       3.0       1   4449.46200                 0   \n",
       "3  33.0  22.705       0.0       1  21984.47061                 0   \n",
       "4  32.0  28.880       0.0       1   3866.85520                 0   \n",
       "\n",
       "   region_northwest  region_southwest  is_male  \n",
       "0                 0                 1        0  \n",
       "1                 0                 0        1  \n",
       "2                 0                 0        1  \n",
       "3                 1                 0        1  \n",
       "4                 1                 0        1  "
      ]
     },
     "execution_count": 17,
     "metadata": {},
     "output_type": "execute_result"
    }
   ],
   "source": [
    "df_new = pd.get_dummies(df,prefix = ['region'],columns =['region'])\n",
    "df_new = df_new.drop(columns=[\"region_southeast\"])\n",
    "\n",
    "df_new['region_northeast']= df_new['region_northeast'].astype('int64')\n",
    "df_new['region_northwest']= df_new['region_northwest'].astype('int64')\n",
    "df_new['region_southwest']= df_new['region_southwest'].astype('int64')\n",
    "df_new['smoker'] = df_new['smoker'].astype(\"int64\")\n",
    "df_new['is_male'] = (df_new['sex'] == 'male').astype('int64')\n",
    "df_new = df_new.drop(columns = 'sex')\n",
    "\n",
    "df_new.head()"
   ]
  },
  {
   "cell_type": "code",
   "execution_count": 18,
   "id": "ac1accad-8713-4705-b3a5-f184d9785325",
   "metadata": {},
   "outputs": [
    {
     "data": {
      "text/plain": [
       "0.7049323160872818"
      ]
     },
     "execution_count": 18,
     "metadata": {},
     "output_type": "execute_result"
    }
   ],
   "source": [
    "from sklearn.model_selection import train_test_split\n",
    "from sklearn.linear_model import LinearRegression\n",
    "#from sklearn.kernel_ridge import KernelRidge\n",
    "from sklearn.metrics import r2_score\n",
    "df_new = df_new.dropna()\n",
    "\n",
    "X = df_new.drop(columns = ['charges'])\n",
    "y = df_new['charges']\n",
    "\n",
    "X_train,X_test,y_train,y_test = train_test_split(X,y,test_size = 0.2, random_state = 42)\n",
    "\n",
    "model = LinearRegression()\n",
    "model.fit(X_train, y_train)\n",
    "\n",
    "y_pred = model.predict(X_test)\n",
    "\n",
    "#mse = mean_squared_error(y_test,y_pred)\n",
    "r2 = r2_score(y_test,y_pred)\n",
    "#mse\n",
    "r2"
   ]
  },
  {
   "cell_type": "code",
   "execution_count": 45,
   "id": "ffed00ab-c587-45d1-826b-01fa1e9c1e08",
   "metadata": {},
   "outputs": [],
   "source": [
    "def pre_process(df):\n",
    "    df_new = pd.get_dummies(df,prefix = ['region'],columns =['region'])\n",
    "    df_new = df_new.drop(columns=[\"region_southeast\"])\n",
    "    df_new['smoker'] = (df_new['smoker']=='yes')\n",
    "    #df_new['smoker'] = df_new['smoker'].astype(\"int64\")\n",
    "    df_new['smoker'] = (df_new['smoker'] == 'yes').astype(int)\n",
    "\n",
    "    df_new['is_male'] = (df_new['sex'] == 'male').astype('int64')\n",
    "    df_new = df_new.drop(columns = 'sex')\n",
    "\n",
    "    return df_new"
   ]
  },
  {
   "cell_type": "code",
   "execution_count": 51,
   "id": "eac0d2a3-7dcb-4c6f-8c7f-509aac1568f6",
   "metadata": {
    "scrolled": true
   },
   "outputs": [
    {
     "data": {
      "text/html": [
       "<div>\n",
       "<style scoped>\n",
       "    .dataframe tbody tr th:only-of-type {\n",
       "        vertical-align: middle;\n",
       "    }\n",
       "\n",
       "    .dataframe tbody tr th {\n",
       "        vertical-align: top;\n",
       "    }\n",
       "\n",
       "    .dataframe thead th {\n",
       "        text-align: right;\n",
       "    }\n",
       "</style>\n",
       "<table border=\"1\" class=\"dataframe\">\n",
       "  <thead>\n",
       "    <tr style=\"text-align: right;\">\n",
       "      <th></th>\n",
       "      <th>age</th>\n",
       "      <th>sex</th>\n",
       "      <th>bmi</th>\n",
       "      <th>children</th>\n",
       "      <th>smoker</th>\n",
       "      <th>region</th>\n",
       "      <th>predicited_charges</th>\n",
       "    </tr>\n",
       "  </thead>\n",
       "  <tbody>\n",
       "    <tr>\n",
       "      <th>0</th>\n",
       "      <td>18.0</td>\n",
       "      <td>female</td>\n",
       "      <td>24.090000</td>\n",
       "      <td>1.0</td>\n",
       "      <td>no</td>\n",
       "      <td>southeast</td>\n",
       "      <td>24552.730446</td>\n",
       "    </tr>\n",
       "    <tr>\n",
       "      <th>1</th>\n",
       "      <td>39.0</td>\n",
       "      <td>male</td>\n",
       "      <td>26.410000</td>\n",
       "      <td>0.0</td>\n",
       "      <td>yes</td>\n",
       "      <td>northeast</td>\n",
       "      <td>30956.214707</td>\n",
       "    </tr>\n",
       "    <tr>\n",
       "      <th>2</th>\n",
       "      <td>27.0</td>\n",
       "      <td>male</td>\n",
       "      <td>29.150000</td>\n",
       "      <td>0.0</td>\n",
       "      <td>yes</td>\n",
       "      <td>southeast</td>\n",
       "      <td>27799.409607</td>\n",
       "    </tr>\n",
       "    <tr>\n",
       "      <th>3</th>\n",
       "      <td>71.0</td>\n",
       "      <td>male</td>\n",
       "      <td>65.502135</td>\n",
       "      <td>13.0</td>\n",
       "      <td>yes</td>\n",
       "      <td>southeast</td>\n",
       "      <td>57194.414804</td>\n",
       "    </tr>\n",
       "    <tr>\n",
       "      <th>4</th>\n",
       "      <td>28.0</td>\n",
       "      <td>male</td>\n",
       "      <td>38.060000</td>\n",
       "      <td>0.0</td>\n",
       "      <td>no</td>\n",
       "      <td>southeast</td>\n",
       "      <td>30885.618880</td>\n",
       "    </tr>\n",
       "  </tbody>\n",
       "</table>\n",
       "</div>"
      ],
      "text/plain": [
       "    age     sex        bmi  children smoker     region  predicited_charges\n",
       "0  18.0  female  24.090000       1.0     no  southeast        24552.730446\n",
       "1  39.0    male  26.410000       0.0    yes  northeast        30956.214707\n",
       "2  27.0    male  29.150000       0.0    yes  southeast        27799.409607\n",
       "3  71.0    male  65.502135      13.0    yes  southeast        57194.414804\n",
       "4  28.0    male  38.060000       0.0     no  southeast        30885.618880"
      ]
     },
     "execution_count": 51,
     "metadata": {},
     "output_type": "execute_result"
    }
   ],
   "source": [
    "val_df = pd.read_csv('validation_dataset.csv')\n",
    "validation_data = pre_process(val_df)\n",
    "input_df = pre_process(val_df)\n",
    "predicitions = model.predict(input_df)\n",
    "validation_data = val_df.copy()\n",
    "validation_data['predicited_charges'] = predicitions_new\n",
    "validation_data.head()"
   ]
  },
  {
   "cell_type": "code",
   "execution_count": 43,
   "id": "aae0fc3e-95cb-4ec7-b8a6-d912a1dc2265",
   "metadata": {},
   "outputs": [],
   "source": [
    "#isinstance(val_df['smoker'],int) --False \n",
    "#smoker column is not integer datatype yet the code runs"
   ]
  },
  {
   "cell_type": "code",
   "execution_count": null,
   "id": "0612e45b-54fb-446a-a0e6-44178e4df1f7",
   "metadata": {},
   "outputs": [],
   "source": []
  },
  {
   "cell_type": "code",
   "execution_count": null,
   "id": "a1d6a67e-e5fe-4ac3-87d2-f9f6539982d2",
   "metadata": {},
   "outputs": [],
   "source": []
  }
 ],
 "metadata": {
  "kernelspec": {
   "display_name": "Python 3 (ipykernel)",
   "language": "python",
   "name": "python3"
  },
  "language_info": {
   "codemirror_mode": {
    "name": "ipython",
    "version": 3
   },
   "file_extension": ".py",
   "mimetype": "text/x-python",
   "name": "python",
   "nbconvert_exporter": "python",
   "pygments_lexer": "ipython3",
   "version": "3.12.4"
  }
 },
 "nbformat": 4,
 "nbformat_minor": 5
}
